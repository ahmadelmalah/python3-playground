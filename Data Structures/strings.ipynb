{
 "cells": [
  {
   "cell_type": "code",
   "execution_count": 1,
   "id": "c09c7e60-bb39-4e93-bb7d-7bd9bbfdd3fe",
   "metadata": {
    "tags": []
   },
   "outputs": [
    {
     "name": "stdout",
     "output_type": "stream",
     "text": [
      "aaabbbccc PYTHON eeeeeddddded\n",
      " PYTHON eeeeeddddded\n",
      "abcaaabbbccc PYTHON eeeeeddddded\n",
      "abcaaabbbccc PYTHON \n",
      "PYTHON\n"
     ]
    }
   ],
   "source": [
    "ORIGINAL_STRING=\"abcaaabbbccc PYTHON eeeeeddddded\"\n",
    "s = ORIGINAL_STRING\n",
    "print (s.removeprefix(\"abc\"))\n",
    "\n",
    "s = ORIGINAL_STRING\n",
    "print (s.lstrip(\"abc\"))\n",
    "\n",
    "s = ORIGINAL_STRING\n",
    "print (s.removeprefix(\"ed\"))\n",
    "\n",
    "s = ORIGINAL_STRING\n",
    "print (s.rstrip(\"ed\"))\n",
    "\n",
    "s = ORIGINAL_STRING\n",
    "print (s.strip(\"abced \"))"
   ]
  },
  {
   "cell_type": "code",
   "execution_count": 2,
   "id": "490201bf-c64e-4289-a4be-ad05e323a0ce",
   "metadata": {},
   "outputs": [
    {
     "name": "stdout",
     "output_type": "stream",
     "text": [
      "Ahmad Elmalah\n",
      "AHMAD ELMALAH\n",
      "ahmad elmalah\n"
     ]
    }
   ],
   "source": [
    "ORIGINAL_STRING=\"aHMAd eLMalah\"\n",
    "s = ORIGINAL_STRING\n",
    "print (s.title())\n",
    "\n",
    "s = ORIGINAL_STRING\n",
    "print (s.upper())\n",
    "\n",
    "s = ORIGINAL_STRING\n",
    "print (s.lower())"
   ]
  },
  {
   "cell_type": "code",
   "execution_count": 3,
   "id": "0a56fbba-f765-4604-a675-bbef4014a092",
   "metadata": {
    "tags": []
   },
   "outputs": [
    {
     "data": {
      "text/plain": [
       "'spam'"
      ]
     },
     "execution_count": 3,
     "metadata": {},
     "output_type": "execute_result"
    }
   ],
   "source": [
    "s = \"spam\"\n",
    "l = list(s)\n",
    "''.join(l)"
   ]
  },
  {
   "cell_type": "code",
   "execution_count": 4,
   "id": "1286e5a7-ffc8-4e2e-a658-83ba08719080",
   "metadata": {
    "tags": []
   },
   "outputs": [],
   "source": [
    "# Strings are immutable\n",
    "# The following line returns error\n",
    "# s[0] = 'a'"
   ]
  },
  {
   "cell_type": "code",
   "execution_count": 5,
   "id": "401e9354-ef65-40f4-9e43-4fa671d31f96",
   "metadata": {
    "tags": []
   },
   "outputs": [
    {
     "data": {
      "text/plain": [
       "1"
      ]
     },
     "execution_count": 5,
     "metadata": {},
     "output_type": "execute_result"
    }
   ],
   "source": [
    "s.find('pa')"
   ]
  },
  {
   "cell_type": "code",
   "execution_count": 6,
   "id": "9286af4b-f2f5-4a2b-86ab-03b9e94a746f",
   "metadata": {
    "tags": []
   },
   "outputs": [
    {
     "data": {
      "text/plain": [
       "'sxyzm'"
      ]
     },
     "execution_count": 6,
     "metadata": {},
     "output_type": "execute_result"
    }
   ],
   "source": [
    "s.replace('pa', 'xyz')"
   ]
  },
  {
   "cell_type": "code",
   "execution_count": 7,
   "id": "a1bcac8e-7809-450c-a71a-57dc3e1e6948",
   "metadata": {
    "tags": []
   },
   "outputs": [
    {
     "data": {
      "text/plain": [
       "'spam'"
      ]
     },
     "execution_count": 7,
     "metadata": {},
     "output_type": "execute_result"
    }
   ],
   "source": [
    "s"
   ]
  },
  {
   "cell_type": "code",
   "execution_count": 8,
   "id": "1f5d6886-4297-4124-9a0f-321db35a1434",
   "metadata": {
    "tags": []
   },
   "outputs": [
    {
     "data": {
      "text/plain": [
       "True"
      ]
     },
     "execution_count": 8,
     "metadata": {},
     "output_type": "execute_result"
    }
   ],
   "source": [
    "s.isalpha()"
   ]
  },
  {
   "cell_type": "code",
   "execution_count": 9,
   "id": "cc6b33a2-8b8f-48a9-a493-b8d69264e63a",
   "metadata": {
    "tags": []
   },
   "outputs": [
    {
     "data": {
      "text/plain": [
       "False"
      ]
     },
     "execution_count": 9,
     "metadata": {},
     "output_type": "execute_result"
    }
   ],
   "source": [
    "s.isdigit()"
   ]
  },
  {
   "cell_type": "code",
   "execution_count": 10,
   "id": "6eff6d3e-f4e7-43db-89b8-016f470450dc",
   "metadata": {
    "tags": []
   },
   "outputs": [
    {
     "data": {
      "text/plain": [
       "True"
      ]
     },
     "execution_count": 10,
     "metadata": {},
     "output_type": "execute_result"
    }
   ],
   "source": [
    "'5'.isdigit()"
   ]
  },
  {
   "cell_type": "code",
   "execution_count": 11,
   "id": "cdef6544-7288-4617-94ec-cbfe93db158a",
   "metadata": {},
   "outputs": [
    {
     "data": {
      "text/plain": [
       "'Hello, Ahmed Elmalah'"
      ]
     },
     "execution_count": 11,
     "metadata": {},
     "output_type": "execute_result"
    }
   ],
   "source": [
    "'Hello, %s %s' % ('Ahmed', 'Elmalah')"
   ]
  },
  {
   "cell_type": "code",
   "execution_count": 12,
   "id": "9c76f1df-d597-4dda-9777-e284d18c4d61",
   "metadata": {
    "tags": []
   },
   "outputs": [
    {
     "data": {
      "text/plain": [
       "'Hello, Ahmed Elmalah'"
      ]
     },
     "execution_count": 12,
     "metadata": {},
     "output_type": "execute_result"
    }
   ],
   "source": [
    "'Hello, {0} {1}'.format('Ahmed', 'Elmalah')"
   ]
  },
  {
   "cell_type": "code",
   "execution_count": 13,
   "id": "5074844c-b843-4d74-8573-2e860b8147be",
   "metadata": {
    "tags": []
   },
   "outputs": [
    {
     "data": {
      "text/plain": [
       "'Hello, Ahmed Elmalah'"
      ]
     },
     "execution_count": 13,
     "metadata": {},
     "output_type": "execute_result"
    }
   ],
   "source": [
    "'Hello, {} {}'.format('Ahmed', 'Elmalah')"
   ]
  },
  {
   "cell_type": "code",
   "execution_count": 14,
   "id": "3cc1ab92-b8b2-4ac6-a316-5b04c52c5b05",
   "metadata": {
    "tags": []
   },
   "outputs": [
    {
     "data": {
      "text/plain": [
       "'Hello, Ahmad'"
      ]
     },
     "execution_count": 14,
     "metadata": {},
     "output_type": "execute_result"
    }
   ],
   "source": [
    "name = \"Ahmad\"\n",
    "s = f\"Hello, {name}\"\n",
    "s"
   ]
  },
  {
   "cell_type": "code",
   "execution_count": 15,
   "id": "59ffca49-ae68-46f9-b881-4eea5af4089c",
   "metadata": {
    "tags": []
   },
   "outputs": [
    {
     "data": {
      "text/plain": [
       "['__abs__',\n",
       " '__add__',\n",
       " '__and__',\n",
       " '__bool__',\n",
       " '__ceil__',\n",
       " '__class__',\n",
       " '__delattr__',\n",
       " '__dir__',\n",
       " '__divmod__',\n",
       " '__doc__',\n",
       " '__eq__',\n",
       " '__float__',\n",
       " '__floor__',\n",
       " '__floordiv__',\n",
       " '__format__',\n",
       " '__ge__',\n",
       " '__getattribute__',\n",
       " '__getnewargs__',\n",
       " '__getstate__',\n",
       " '__gt__',\n",
       " '__hash__',\n",
       " '__index__',\n",
       " '__init__',\n",
       " '__init_subclass__',\n",
       " '__int__',\n",
       " '__invert__',\n",
       " '__le__',\n",
       " '__lshift__',\n",
       " '__lt__',\n",
       " '__mod__',\n",
       " '__mul__',\n",
       " '__ne__',\n",
       " '__neg__',\n",
       " '__new__',\n",
       " '__or__',\n",
       " '__pos__',\n",
       " '__pow__',\n",
       " '__radd__',\n",
       " '__rand__',\n",
       " '__rdivmod__',\n",
       " '__reduce__',\n",
       " '__reduce_ex__',\n",
       " '__repr__',\n",
       " '__rfloordiv__',\n",
       " '__rlshift__',\n",
       " '__rmod__',\n",
       " '__rmul__',\n",
       " '__ror__',\n",
       " '__round__',\n",
       " '__rpow__',\n",
       " '__rrshift__',\n",
       " '__rshift__',\n",
       " '__rsub__',\n",
       " '__rtruediv__',\n",
       " '__rxor__',\n",
       " '__setattr__',\n",
       " '__sizeof__',\n",
       " '__str__',\n",
       " '__sub__',\n",
       " '__subclasshook__',\n",
       " '__truediv__',\n",
       " '__trunc__',\n",
       " '__xor__',\n",
       " 'as_integer_ratio',\n",
       " 'bit_count',\n",
       " 'bit_length',\n",
       " 'conjugate',\n",
       " 'denominator',\n",
       " 'from_bytes',\n",
       " 'imag',\n",
       " 'numerator',\n",
       " 'real',\n",
       " 'to_bytes']"
      ]
     },
     "execution_count": 15,
     "metadata": {},
     "output_type": "execute_result"
    }
   ],
   "source": [
    "dir(5)"
   ]
  },
  {
   "cell_type": "code",
   "execution_count": 16,
   "id": "016d42e9-5c35-47b1-b32a-0fca59ae2395",
   "metadata": {
    "tags": []
   },
   "outputs": [
    {
     "data": {
      "text/plain": [
       "'Ahmed Elmalah'"
      ]
     },
     "execution_count": 16,
     "metadata": {},
     "output_type": "execute_result"
    }
   ],
   "source": [
    "s = \"Ahmed\"\n",
    "s.__add__(\" Elmalah\")"
   ]
  },
  {
   "cell_type": "code",
   "execution_count": 17,
   "id": "622d6255-aada-46e4-8d67-48420e6a057d",
   "metadata": {
    "tags": []
   },
   "outputs": [
    {
     "name": "stdout",
     "output_type": "stream",
     "text": [
      "Help on built-in function replace:\n",
      "\n",
      "replace(old, new, count=-1, /) method of builtins.str instance\n",
      "    Return a copy with all occurrences of substring old replaced by new.\n",
      "    \n",
      "      count\n",
      "        Maximum number of occurrences to replace.\n",
      "        -1 (the default value) means replace all occurrences.\n",
      "    \n",
      "    If the optional argument count is given, only the first count occurrences are\n",
      "    replaced.\n",
      "\n"
     ]
    }
   ],
   "source": [
    "help(s.replace)"
   ]
  },
  {
   "cell_type": "code",
   "execution_count": 18,
   "id": "8fb41978-ea95-48c5-8f02-a82aa02fc039",
   "metadata": {
    "tags": []
   },
   "outputs": [
    {
     "data": {
      "text/plain": [
       "5"
      ]
     },
     "execution_count": 18,
     "metadata": {},
     "output_type": "execute_result"
    }
   ],
   "source": [
    "s = 'A\\nB\\tC'\n",
    "# One chart each\n",
    "len(s)"
   ]
  },
  {
   "cell_type": "code",
   "execution_count": 19,
   "id": "ad02f221-59be-41a1-ab35-1e67fa32dbab",
   "metadata": {
    "tags": []
   },
   "outputs": [
    {
     "data": {
      "text/plain": [
       "10"
      ]
     },
     "execution_count": 19,
     "metadata": {},
     "output_type": "execute_result"
    }
   ],
   "source": [
    "# Asci\n",
    "ord('\\n')"
   ]
  },
  {
   "cell_type": "code",
   "execution_count": 20,
   "id": "4aca70d8-64a1-4aeb-bf98-67094acaad82",
   "metadata": {
    "tags": []
   },
   "outputs": [
    {
     "data": {
      "text/plain": [
       "'A\\x00B\\x00C'"
      ]
     },
     "execution_count": 20,
     "metadata": {},
     "output_type": "execute_result"
    }
   ],
   "source": [
    "S = 'A\\0B\\0C'\n",
    "S"
   ]
  },
  {
   "cell_type": "code",
   "execution_count": 21,
   "id": "819841d7-2830-4815-b7bf-0b660ebe5c27",
   "metadata": {
    "tags": []
   },
   "outputs": [
    {
     "data": {
      "text/plain": [
       "b'spam'"
      ]
     },
     "execution_count": 21,
     "metadata": {},
     "output_type": "execute_result"
    }
   ],
   "source": [
    "'spam'.encode('utf8')"
   ]
  },
  {
   "cell_type": "code",
   "execution_count": 22,
   "id": "58589657-91dd-49c3-9fc0-34e9ecd68ee9",
   "metadata": {
    "tags": []
   },
   "outputs": [
    {
     "data": {
      "text/plain": [
       "b'\\xff\\xfes\\x00p\\x00a\\x00m\\x00'"
      ]
     },
     "execution_count": 22,
     "metadata": {},
     "output_type": "execute_result"
    }
   ],
   "source": [
    "'spam'.encode('utf16')"
   ]
  }
 ],
 "metadata": {
  "kernelspec": {
   "display_name": "Python 3 (ipykernel)",
   "language": "python",
   "name": "python3"
  },
  "language_info": {
   "codemirror_mode": {
    "name": "ipython",
    "version": 3
   },
   "file_extension": ".py",
   "mimetype": "text/x-python",
   "name": "python",
   "nbconvert_exporter": "python",
   "pygments_lexer": "ipython3",
   "version": "3.11.5"
  }
 },
 "nbformat": 4,
 "nbformat_minor": 5
}
