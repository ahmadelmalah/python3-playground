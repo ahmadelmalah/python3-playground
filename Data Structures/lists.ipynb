{
 "cells": [
  {
   "cell_type": "markdown",
   "id": "f8bca536-1bf2-4c4c-80f8-f4cb43fee1ce",
   "metadata": {},
   "source": [
    "##### sort() works in place, is a member of list class, and returns nothing"
   ]
  },
  {
   "cell_type": "code",
   "execution_count": 1,
   "id": "20f7693a-76e9-4374-95b2-c2c9b62c7b04",
   "metadata": {
    "tags": []
   },
   "outputs": [
    {
     "data": {
      "text/plain": [
       "[1, 2, 3]"
      ]
     },
     "execution_count": 1,
     "metadata": {},
     "output_type": "execute_result"
    }
   ],
   "source": [
    "x = [1, 3, 2]\n",
    "x.sort()\n",
    "x"
   ]
  },
  {
   "cell_type": "code",
   "execution_count": 2,
   "id": "f224b555-4d57-4abc-a0ce-5d05fd37b16e",
   "metadata": {},
   "outputs": [],
   "source": [
    "x = list(range(5))"
   ]
  },
  {
   "cell_type": "code",
   "execution_count": 3,
   "id": "54768cdd-5d1d-4ea7-bb60-3969745d124f",
   "metadata": {
    "tags": []
   },
   "outputs": [
    {
     "data": {
      "text/plain": [
       "[1, 3, 2]"
      ]
     },
     "execution_count": 3,
     "metadata": {},
     "output_type": "execute_result"
    }
   ],
   "source": [
    "x = [1, 3, 2]\n",
    "y = sorted(x)\n",
    "x"
   ]
  },
  {
   "cell_type": "markdown",
   "id": "2407639a",
   "metadata": {},
   "source": [
    "#### Can you loop through all instances of a certain value in a list with using if condition?"
   ]
  },
  {
   "cell_type": "code",
   "execution_count": 4,
   "id": "cb5789c3",
   "metadata": {},
   "outputs": [
    {
     "data": {
      "text/plain": [
       "['dog', 'dog', 'goldfish', 'rabbit']"
      ]
     },
     "execution_count": 4,
     "metadata": {},
     "output_type": "execute_result"
    }
   ],
   "source": [
    "pets = ['dog', 'cat', 'dog', 'goldfish', 'cat', 'rabbit', 'cat']\n",
    "while 'cat' in pets:\n",
    "    pets.remove('cat')\n",
    "pets"
   ]
  },
  {
   "cell_type": "markdown",
   "id": "0f4a0fc6-4e8e-40c4-b6a0-ad753a098943",
   "metadata": {},
   "source": [
    "##### pop() returns the removed item, while remove() doesn't"
   ]
  },
  {
   "cell_type": "code",
   "execution_count": 5,
   "id": "709d4be2-a70d-4151-865e-32ea9987430f",
   "metadata": {
    "tags": []
   },
   "outputs": [
    {
     "data": {
      "text/plain": [
       "3"
      ]
     },
     "execution_count": 5,
     "metadata": {},
     "output_type": "execute_result"
    }
   ],
   "source": [
    "x = [1, 3, 2]\n",
    "x.pop(1)"
   ]
  },
  {
   "cell_type": "code",
   "execution_count": 6,
   "id": "2a9fd176-4dd1-461a-8dca-5ef76f324bcf",
   "metadata": {
    "tags": []
   },
   "outputs": [
    {
     "data": {
      "text/plain": [
       "[1, 2]"
      ]
     },
     "execution_count": 6,
     "metadata": {},
     "output_type": "execute_result"
    }
   ],
   "source": [
    "x = [1, 3, 2]\n",
    "x.remove(3)\n",
    "x"
   ]
  },
  {
   "cell_type": "markdown",
   "id": "b3f889ac-5d08-4217-af40-acd22b4edc1c",
   "metadata": {
    "tags": []
   },
   "source": [
    "##### The same, right?"
   ]
  },
  {
   "cell_type": "code",
   "execution_count": 7,
   "id": "5212399c-a5a4-4d9d-a2ee-75086d54d7bf",
   "metadata": {
    "tags": []
   },
   "outputs": [
    {
     "name": "stdout",
     "output_type": "stream",
     "text": [
      "last\n",
      "last\n"
     ]
    }
   ],
   "source": [
    "x = [1, 3, 2, 'last']\n",
    "print(x.pop())\n",
    "x = [1, 3, 2, 'last']\n",
    "print(x.pop(-1))\n"
   ]
  },
  {
   "cell_type": "code",
   "execution_count": 8,
   "id": "f2aed6dd-e4e9-486d-a95c-9ed96ede4f4c",
   "metadata": {
    "tags": []
   },
   "outputs": [
    {
     "data": {
      "text/plain": [
       "array('l', [1, 3, 4, 5])"
      ]
     },
     "execution_count": 8,
     "metadata": {},
     "output_type": "execute_result"
    }
   ],
   "source": [
    "from array import array\n",
    "x = array('l', [1, 2, 3, 4, 5])\n",
    "x.remove(2)\n",
    "x"
   ]
  },
  {
   "cell_type": "code",
   "execution_count": 9,
   "id": "fbb55c42-29b7-4d25-a96b-bb830f0792db",
   "metadata": {
    "tags": []
   },
   "outputs": [
    {
     "data": {
      "text/plain": [
       "['first', 1, 2, 3, 'last']"
      ]
     },
     "execution_count": 9,
     "metadata": {},
     "output_type": "execute_result"
    }
   ],
   "source": [
    "x = [1,2,3]\n",
    "x.insert(0, 'first')\n",
    "x.append('last')\n",
    "x"
   ]
  },
  {
   "cell_type": "code",
   "execution_count": 10,
   "id": "c7bf41bd-ba12-4335-aa4a-9fab7bcf2aaf",
   "metadata": {
    "tags": []
   },
   "outputs": [
    {
     "name": "stdout",
     "output_type": "stream",
     "text": [
      "[3, 2, 1]\n"
     ]
    },
    {
     "data": {
      "text/plain": [
       "[2, 3, 1]"
      ]
     },
     "execution_count": 10,
     "metadata": {},
     "output_type": "execute_result"
    }
   ],
   "source": [
    "x = [1,3,2]\n",
    "x.sort(reverse=True)\n",
    "print(x)\n",
    "\n",
    "y = [1,3,2]\n",
    "y = list(reversed(y))\n",
    "y"
   ]
  },
  {
   "cell_type": "code",
   "execution_count": 11,
   "id": "cba9cb15-2a82-46ae-bfcb-f4f836218223",
   "metadata": {
    "tags": []
   },
   "outputs": [
    {
     "name": "stdout",
     "output_type": "stream",
     "text": [
      "1\n",
      "3\n",
      "6\n"
     ]
    }
   ],
   "source": [
    "print(min(x))\n",
    "print(max(x))\n",
    "print(sum(x))"
   ]
  },
  {
   "cell_type": "markdown",
   "id": "1539a2d3-def1-42e9-848d-679080785d75",
   "metadata": {
    "tags": []
   },
   "source": [
    "##### List cloning vs assigning a new reference"
   ]
  },
  {
   "cell_type": "code",
   "execution_count": 12,
   "id": "469d8fd3-684b-4196-b9c4-4a8a915b7554",
   "metadata": {
    "tags": []
   },
   "outputs": [
    {
     "name": "stdout",
     "output_type": "stream",
     "text": [
      "[3, 2, 1, 'new']\n",
      "[3, 2, 1]\n"
     ]
    }
   ],
   "source": [
    "y = x\n",
    "z = x[:]\n",
    "x.append('new')\n",
    "print(y)\n",
    "print(z)"
   ]
  },
  {
   "cell_type": "code",
   "execution_count": 13,
   "id": "00706239-4dd5-4bee-b5ba-b8131c77f5af",
   "metadata": {
    "tags": []
   },
   "outputs": [
    {
     "data": {
      "text/plain": [
       "[1, 'new']"
      ]
     },
     "execution_count": 13,
     "metadata": {},
     "output_type": "execute_result"
    }
   ],
   "source": [
    "x[-2:]"
   ]
  },
  {
   "cell_type": "markdown",
   "id": "b27f272a-bf37-4df1-bb4e-22a4aa80f966",
   "metadata": {
    "tags": []
   },
   "source": [
    "##### One-item tuple\n",
    "(you can't edit values in tuples but you can reassign)\n"
   ]
  },
  {
   "cell_type": "code",
   "execution_count": 14,
   "id": "d98a156c-91fa-4527-bc2e-cd26953e3844",
   "metadata": {
    "tags": []
   },
   "outputs": [
    {
     "data": {
      "text/plain": [
       "(4,)"
      ]
     },
     "execution_count": 14,
     "metadata": {},
     "output_type": "execute_result"
    }
   ],
   "source": [
    "tuple = (3,)\n",
    "# tuple[0] = 4 >> error\n",
    "tuple = (4,)\n",
    "tuple\n"
   ]
  },
  {
   "cell_type": "code",
   "execution_count": 15,
   "id": "e977a328-9b99-4594-a3a8-8bb117a9b8d4",
   "metadata": {
    "tags": []
   },
   "outputs": [
    {
     "name": "stdout",
     "output_type": "stream",
     "text": [
      "True\n",
      "False\n"
     ]
    }
   ],
   "source": [
    "myList = list(range(5))\n",
    "print(2 in myList)\n",
    "print(3 not in myList)"
   ]
  },
  {
   "cell_type": "code",
   "execution_count": 16,
   "id": "ee328943-e3a0-4d8b-9e30-d4bbb4c49156",
   "metadata": {
    "tags": []
   },
   "outputs": [
    {
     "name": "stdout",
     "output_type": "stream",
     "text": [
      "Yes, list is not empty\n"
     ]
    }
   ],
   "source": [
    "if myList:\n",
    "    print('Yes, list is not empty')"
   ]
  },
  {
   "cell_type": "code",
   "execution_count": 17,
   "id": "2d3b17cd-0d9c-4119-ab11-c4da0d3ba829",
   "metadata": {
    "tags": []
   },
   "outputs": [
    {
     "data": {
      "text/plain": [
       "'not existing'"
      ]
     },
     "execution_count": 17,
     "metadata": {},
     "output_type": "execute_result"
    }
   ],
   "source": [
    "dict = {}\n",
    "dict['new_key'] = 'new value'\n",
    "del dict['new_key']\n",
    "dict.get('new_key', 'not existing')"
   ]
  },
  {
   "cell_type": "markdown",
   "id": "71e94f45-aa5e-4800-b8cb-e2801b57e1a1",
   "metadata": {},
   "source": [
    "### Sets"
   ]
  },
  {
   "cell_type": "code",
   "execution_count": 18,
   "id": "28784878-1703-4d14-96ee-0f4663768ce1",
   "metadata": {
    "tags": []
   },
   "outputs": [
    {
     "data": {
      "text/plain": [
       "{1, 2, 3}"
      ]
     },
     "execution_count": 18,
     "metadata": {},
     "output_type": "execute_result"
    }
   ],
   "source": [
    "x = {1,2,3,1}\n",
    "x"
   ]
  },
  {
   "cell_type": "markdown",
   "id": "1d6b4dd0-0796-431f-bedf-179a29b38952",
   "metadata": {},
   "source": [
    "##### List in Dictionary"
   ]
  },
  {
   "cell_type": "code",
   "execution_count": 19,
   "id": "5fa8f11d-2bd8-4921-8503-5c9c0256bdba",
   "metadata": {
    "tags": []
   },
   "outputs": [
    {
     "data": {
      "text/plain": [
       "{'my lovely nums': [0, 1, 2, 3, 4]}"
      ]
     },
     "execution_count": 19,
     "metadata": {},
     "output_type": "execute_result"
    }
   ],
   "source": [
    "myList = list(range(5))\n",
    "myDict = {'my lovely nums': myList}\n",
    "myDict"
   ]
  },
  {
   "cell_type": "markdown",
   "id": "deb27d69-6786-40de-afe1-4701506e81e8",
   "metadata": {},
   "source": [
    "##### Dictionary in List"
   ]
  },
  {
   "cell_type": "code",
   "execution_count": 20,
   "id": "9973ecec-af15-4b16-b20c-37c57921e6b2",
   "metadata": {},
   "outputs": [
    {
     "data": {
      "text/plain": [
       "[{'name': 'Ahmad', 'age': 20},\n",
       " {'name': 'Mohamed', 'age': 30},\n",
       " {'name': 'John', 'age': 40}]"
      ]
     },
     "execution_count": 20,
     "metadata": {},
     "output_type": "execute_result"
    }
   ],
   "source": [
    "user1 = {'name': 'Ahmad', 'age': 20}\n",
    "user2 = {'name': 'Mohamed', 'age': 30}\n",
    "user3 = {'name': 'John', 'age': 40}\n",
    "userList = [user1,user2,user3]\n",
    "userList"
   ]
  }
 ],
 "metadata": {
  "kernelspec": {
   "display_name": "Python 3",
   "language": "python",
   "name": "python3"
  },
  "language_info": {
   "codemirror_mode": {
    "name": "ipython",
    "version": 3
   },
   "file_extension": ".py",
   "mimetype": "text/x-python",
   "name": "python",
   "nbconvert_exporter": "python",
   "pygments_lexer": "ipython3",
   "version": "3.10.12"
  }
 },
 "nbformat": 4,
 "nbformat_minor": 5
}
