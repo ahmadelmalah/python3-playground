{
 "cells": [
  {
   "cell_type": "code",
   "execution_count": 1,
   "id": "f4e3da54",
   "metadata": {},
   "outputs": [
    {
     "name": "stdout",
     "output_type": "stream",
     "text": [
      "Tasks from the queue:\n",
      "Priority 1: Send email\n",
      "Priority 2: Schedule meeting\n",
      "Priority 3: Buy groceries\n"
     ]
    }
   ],
   "source": [
    "from queue import PriorityQueue\n",
    "\n",
    "# Create a PriorityQueue instance\n",
    "q = PriorityQueue()\n",
    "\n",
    "# Add items with priorities (priority, item)\n",
    "q.put((2, 'Schedule meeting'))\n",
    "q.put((1, 'Send email'))\n",
    "q.put((3, 'Buy groceries'))\n",
    "\n",
    "print(\"Tasks from the queue:\")\n",
    "while not q.empty():\n",
    "    # Get the item with the highest priority\n",
    "    priority, task = q.get()\n",
    "    print(f\"Priority {priority}: {task}\")"
   ]
  },
  {
   "cell_type": "code",
   "execution_count": 2,
   "id": "c8b4c8db",
   "metadata": {},
   "outputs": [
    {
     "name": "stdout",
     "output_type": "stream",
     "text": [
      "Tasks in priority order:\n",
      "Priority 1: Call mom\n",
      "Priority 2: Finish report\n",
      "Priority 3: Go to the gym\n"
     ]
    }
   ],
   "source": [
    "import heapq\n",
    "\n",
    "# Create a list to use as a priority queue\n",
    "tasks = []\n",
    "\n",
    "# Add items with priorities (priority, item)\n",
    "heapq.heappush(tasks, (2, 'Finish report'))\n",
    "heapq.heappush(tasks, (1, 'Call mom'))\n",
    "heapq.heappush(tasks, (3, 'Go to the gym'))\n",
    "\n",
    "print(\"Tasks in priority order:\")\n",
    "while tasks:\n",
    "    # Get the item with the highest priority (lowest number)\n",
    "    priority, task = heapq.heappop(tasks)\n",
    "    print(f\"Priority {priority}: {task}\")"
   ]
  },
  {
   "cell_type": "code",
   "execution_count": null,
   "id": "dafd9fa5",
   "metadata": {},
   "outputs": [],
   "source": []
  }
 ],
 "metadata": {
  "kernelspec": {
   "display_name": "Python 3",
   "language": "python",
   "name": "python3"
  },
  "language_info": {
   "codemirror_mode": {
    "name": "ipython",
    "version": 3
   },
   "file_extension": ".py",
   "mimetype": "text/x-python",
   "name": "python",
   "nbconvert_exporter": "python",
   "pygments_lexer": "ipython3",
   "version": "3.10.12"
  }
 },
 "nbformat": 4,
 "nbformat_minor": 5
}
