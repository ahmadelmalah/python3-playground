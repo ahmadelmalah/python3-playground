{
 "cells": [
  {
   "cell_type": "markdown",
   "id": "813ef337-e8e0-4710-a4e7-142f686b8b78",
   "metadata": {},
   "source": [
    "# Polymorohism\n",
    "##### Polymorohism is one of the 4 OOP pillars, alongside with abstraction, encabsulation and inhertance"
   ]
  },
  {
   "cell_type": "markdown",
   "id": "dfc541f2",
   "metadata": {},
   "source": [
    "## Duck Typing"
   ]
  },
  {
   "cell_type": "code",
   "execution_count": 1,
   "id": "60ff5735",
   "metadata": {},
   "outputs": [
    {
     "name": "stdout",
     "output_type": "stream",
     "text": [
      "Drive!\n",
      "Sail!\n",
      "Fly!\n"
     ]
    }
   ],
   "source": [
    "class Car:\n",
    "    def __init__(self, brand, model):\n",
    "        self.brand = brand\n",
    "        self.model = model\n",
    "\n",
    "    def move(self):\n",
    "        print(\"Drive!\")\n",
    "\n",
    "\n",
    "class Boat:\n",
    "    def __init__(self, brand, model):\n",
    "        self.brand = brand\n",
    "        self.model = model\n",
    "\n",
    "    def move(self):\n",
    "        print(\"Sail!\")\n",
    "\n",
    "\n",
    "class Plane:\n",
    "    def __init__(self, brand, model):\n",
    "        self.brand = brand\n",
    "        self.model = model\n",
    "\n",
    "    def move(self):\n",
    "        print(\"Fly!\")\n",
    "\n",
    "\n",
    "car1 = Car(\"Ford\", \"Mustang\")  # Create a Car class\n",
    "boat1 = Boat(\"Ibiza\", \"Touring 20\")  # Create a Boat class\n",
    "plane1 = Plane(\"Boeing\", \"747\")  # Create a Plane class\n",
    "\n",
    "for x in (car1, boat1, plane1):\n",
    "    x.move()\n"
   ]
  },
  {
   "cell_type": "markdown",
   "id": "3448769d",
   "metadata": {},
   "source": [
    "## Operator Overloading"
   ]
  },
  {
   "cell_type": "code",
   "execution_count": 2,
   "id": "803fe29b",
   "metadata": {},
   "outputs": [
    {
     "name": "stdout",
     "output_type": "stream",
     "text": [
      "5 5\n"
     ]
    }
   ],
   "source": [
    "class Vector:\n",
    "    def __init__(self, x, y):\n",
    "        self.x = x\n",
    "        self.y = y\n",
    "\n",
    "    def __add__(self, other):\n",
    "        if isinstance(other, Vector):\n",
    "            return Vector(self.x + other.x, self.y + other.y)\n",
    "        else:\n",
    "            raise TypeError(\"Can only add Vector objects\")\n",
    "\n",
    "\n",
    "# Create Vector objects\n",
    "v1 = Vector(3, 4)\n",
    "v2 = Vector(2, 1)\n",
    "\n",
    "# Use the + operator for vector addition\n",
    "v3 = v1 + v2\n",
    "\n",
    "print(v3.x, v3.y)  # Output: 5 5\n"
   ]
  },
  {
   "cell_type": "code",
   "execution_count": null,
   "id": "aecb309b",
   "metadata": {},
   "outputs": [],
   "source": []
  }
 ],
 "metadata": {
  "kernelspec": {
   "display_name": "Python 3",
   "language": "python",
   "name": "python3"
  },
  "language_info": {
   "codemirror_mode": {
    "name": "ipython",
    "version": 3
   },
   "file_extension": ".py",
   "mimetype": "text/x-python",
   "name": "python",
   "nbconvert_exporter": "python",
   "pygments_lexer": "ipython3",
   "version": "3.10.12"
  }
 },
 "nbformat": 4,
 "nbformat_minor": 5
}
