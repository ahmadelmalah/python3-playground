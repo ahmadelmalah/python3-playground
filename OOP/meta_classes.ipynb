{
 "cells": [
  {
   "cell_type": "markdown",
   "id": "6ad648d2-eb5d-4751-b0a8-100c79257fce",
   "metadata": {},
   "source": [
    "## How to build a class that can be inherited only n times?"
   ]
  },
  {
   "cell_type": "code",
   "execution_count": null,
   "id": "4bd456f0-2d15-44e0-a9dc-b3fbf2f4814a",
   "metadata": {},
   "outputs": [
    {
     "name": "stdout",
     "output_type": "stream",
     "text": [
      "Sorry, You can't have more than 3 kids!\n",
      "3\n"
     ]
    }
   ],
   "source": [
    "class CountMeta(type):\n",
    "  kids_count = 0\n",
    "\n",
    "  def __new__(mcs, name, bases, dct):\n",
    "    if CountMeta.kids_count == 3:\n",
    "        raise Exception(\"Sorry, you're only allowed to inherit this class 2 times.\")\n",
    "        \n",
    "    cls = super().__new__(mcs, name, bases, dct)\n",
    "    CountMeta.kids_count += 1\n",
    "    return cls\n",
    "\n",
    "class A(metaclass=CountMeta):\n",
    "    pass\n",
    "\n",
    "class B(A, metaclass=CountMeta):\n",
    "    pass\n",
    "\n",
    "class C(B): #no need to mention the meta class again, as B does\n",
    "    pass\n",
    "\n",
    "try:\n",
    "    class D(B):\n",
    "        pass\n",
    "except Exception as error:\n",
    "    print(error)\n",
    "\n",
    "print(CountMeta.kids_count)  # Should output: 2"
   ]
  },
  {
   "cell_type": "markdown",
   "id": "f25c1a51-8002-4b96-b583-3b6e2f3f4f61",
   "metadata": {},
   "source": [
    "## How to make sure a class starts with inital set of class attributes/sets"
   ]
  },
  {
   "cell_type": "code",
   "execution_count": 6,
   "id": "32060fc6-ef4e-4ecf-a55f-6ab52eb8f154",
   "metadata": {},
   "outputs": [
    {
     "name": "stdout",
     "output_type": "stream",
     "text": [
      "Class attribute 'age' must be an integer in class B\n"
     ]
    }
   ],
   "source": [
    "class ValidateMeta(type):\n",
    "  def __new__(mcs, name, bases, dct):\n",
    "    if 'age' not in dct or not isinstance(dct['age'], int):\n",
    "      raise TypeError(\"Class attribute 'age' must be an integer in class {}\".format(name))\n",
    "\n",
    "    if 'move' not in dct or callable(dct['age']) == True:\n",
    "      raise TypeError(\"You have to implement move() function in class {}\".format(name))\n",
    "\n",
    "    return super().__new__(mcs, name, bases, dct)\n",
    "\n",
    "class A(metaclass=ValidateMeta):\n",
    "    age = 12\n",
    "    def move():\n",
    "        pass\n",
    "\n",
    "try:\n",
    "    class B(metaclass=ValidateMeta):\n",
    "        age = \"ahmed\"\n",
    "except Exception as error:\n",
    "    print(error)\n",
    "\n",
    "class C(A):\n",
    "    age = 13\n",
    "    def move():\n",
    "        pass"
   ]
  }
 ],
 "metadata": {
  "kernelspec": {
   "display_name": "Python 3",
   "language": "python",
   "name": "python3"
  },
  "language_info": {
   "codemirror_mode": {
    "name": "ipython",
    "version": 3
   },
   "file_extension": ".py",
   "mimetype": "text/x-python",
   "name": "python",
   "nbconvert_exporter": "python",
   "pygments_lexer": "ipython3",
   "version": "3.10.12"
  }
 },
 "nbformat": 4,
 "nbformat_minor": 5
}
