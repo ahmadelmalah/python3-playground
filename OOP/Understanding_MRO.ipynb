{
 "cells": [
  {
   "cell_type": "markdown",
   "id": "813ef337-e8e0-4710-a4e7-142f686b8b78",
   "metadata": {},
   "source": [
    "# In MRO, Kids First"
   ]
  },
  {
   "cell_type": "code",
   "execution_count": 1,
   "id": "1defa6c8-5212-46f5-a5ba-f7acfa5981fe",
   "metadata": {},
   "outputs": [],
   "source": [
    "class A:\n",
    "    pass"
   ]
  },
  {
   "cell_type": "code",
   "execution_count": 2,
   "id": "82868ab2-1933-427e-97d3-5df3db4dbc47",
   "metadata": {
    "scrolled": true
   },
   "outputs": [],
   "source": [
    "class B(A):\n",
    "    pass"
   ]
  },
  {
   "cell_type": "code",
   "execution_count": 3,
   "id": "c2871788-6274-45cd-a0a8-16bafb7a929d",
   "metadata": {},
   "outputs": [
    {
     "name": "stdout",
     "output_type": "stream",
     "text": [
      "Cannot create a consistent method resolution\n",
      "order (MRO) for bases A, B\n"
     ]
    }
   ],
   "source": [
    "# You can't mention a parent before following childs\n",
    "try:\n",
    "    class C(A, B):\n",
    "        pass\n",
    "except TypeError as e:\n",
    "    print(e)"
   ]
  },
  {
   "cell_type": "code",
   "execution_count": 4,
   "id": "6b066e0e-0642-4d0f-9f07-e3a7accd1937",
   "metadata": {},
   "outputs": [],
   "source": [
    "# but you can start with childs\n",
    "class C(B, A):\n",
    "    pass"
   ]
  },
  {
   "cell_type": "code",
   "execution_count": 5,
   "id": "824de1b4-d194-44d4-86b2-57452ea73772",
   "metadata": {},
   "outputs": [],
   "source": [
    "class D(B):\n",
    "    pass"
   ]
  },
  {
   "cell_type": "code",
   "execution_count": 6,
   "id": "8a68b7da-1077-451a-9814-91b29c156b2d",
   "metadata": {},
   "outputs": [],
   "source": [
    "class E(D, A):\n",
    "    pass"
   ]
  },
  {
   "cell_type": "code",
   "execution_count": 7,
   "id": "ecd44591-1319-40d9-b2e2-75d4db71eb2d",
   "metadata": {},
   "outputs": [
    {
     "data": {
      "text/plain": [
       "[__main__.E, __main__.D, __main__.B, __main__.A, object]"
      ]
     },
     "execution_count": 7,
     "metadata": {},
     "output_type": "execute_result"
    }
   ],
   "source": [
    "E.mro()"
   ]
  },
  {
   "cell_type": "markdown",
   "id": "79452ee1-404d-47dc-a33d-43b15b49e738",
   "metadata": {},
   "source": [
    "## In python, everything is an object, including classes\n"
   ]
  },
  {
   "cell_type": "code",
   "execution_count": 8,
   "id": "d66212df-8649-42bf-a90f-a5800006bc63",
   "metadata": {},
   "outputs": [],
   "source": [
    "# override classes\n",
    "class A:\n",
    "    age = 12\n",
    "    pass"
   ]
  },
  {
   "cell_type": "code",
   "execution_count": 9,
   "id": "61f66c9f-422e-4a41-9345-8c7fd3aff458",
   "metadata": {},
   "outputs": [
    {
     "data": {
      "text/plain": [
       "mappingproxy({'__module__': '__main__',\n",
       "              'age': 12,\n",
       "              '__dict__': <attribute '__dict__' of 'A' objects>,\n",
       "              '__weakref__': <attribute '__weakref__' of 'A' objects>,\n",
       "              '__doc__': None})"
      ]
     },
     "execution_count": 9,
     "metadata": {},
     "output_type": "execute_result"
    }
   ],
   "source": [
    "A.__dict__"
   ]
  },
  {
   "cell_type": "code",
   "execution_count": 10,
   "id": "81fe1965-3228-4d00-af2d-7993c23c08b1",
   "metadata": {},
   "outputs": [
    {
     "data": {
      "text/plain": [
       "12"
      ]
     },
     "execution_count": 10,
     "metadata": {},
     "output_type": "execute_result"
    }
   ],
   "source": [
    "A.age"
   ]
  },
  {
   "cell_type": "code",
   "execution_count": 11,
   "id": "0563bff2-2124-47ac-8eb3-c8dfb2d41193",
   "metadata": {},
   "outputs": [
    {
     "data": {
      "text/plain": [
       "15"
      ]
     },
     "execution_count": 11,
     "metadata": {},
     "output_type": "execute_result"
    }
   ],
   "source": [
    "objA = A()\n",
    "objA.__class__.age = 15\n",
    "objA.age"
   ]
  },
  {
   "cell_type": "code",
   "execution_count": 12,
   "id": "2ddd2ef8-f288-4198-932c-c9098302df5f",
   "metadata": {},
   "outputs": [
    {
     "data": {
      "text/plain": [
       "20"
      ]
     },
     "execution_count": 12,
     "metadata": {},
     "output_type": "execute_result"
    }
   ],
   "source": [
    "A.age = 20\n",
    "objA.age"
   ]
  },
  {
   "cell_type": "code",
   "execution_count": 13,
   "id": "3fc47499-1619-4521-bdc2-c532cd12564d",
   "metadata": {},
   "outputs": [
    {
     "data": {
      "text/plain": [
       "20"
      ]
     },
     "execution_count": 13,
     "metadata": {},
     "output_type": "execute_result"
    }
   ],
   "source": [
    "# but not vice versa\n",
    "objA.age=25\n",
    "A.age"
   ]
  },
  {
   "cell_type": "markdown",
   "id": "29324a0d-d9a0-45e5-b18b-594f4d0e4d05",
   "metadata": {},
   "source": [
    "## You can remove class reference\n",
    "### It keeps a version of the class and its arrtibute"
   ]
  },
  {
   "cell_type": "code",
   "execution_count": 14,
   "id": "abd82752-f115-4506-9a07-136ce3c662fd",
   "metadata": {},
   "outputs": [
    {
     "data": {
      "text/plain": [
       "25"
      ]
     },
     "execution_count": 14,
     "metadata": {},
     "output_type": "execute_result"
    }
   ],
   "source": [
    "del A\n",
    "objA.age"
   ]
  },
  {
   "cell_type": "code",
   "execution_count": 15,
   "id": "81dc63db-4c75-4aee-8ae6-80077cc06b17",
   "metadata": {},
   "outputs": [
    {
     "data": {
      "text/plain": [
       "__main__.A"
      ]
     },
     "execution_count": 15,
     "metadata": {},
     "output_type": "execute_result"
    }
   ],
   "source": [
    "objA.__class__"
   ]
  },
  {
   "cell_type": "code",
   "execution_count": 16,
   "id": "6545136f-84a7-476b-86b0-2f80ec262a4c",
   "metadata": {},
   "outputs": [
    {
     "data": {
      "text/plain": [
       "20"
      ]
     },
     "execution_count": 16,
     "metadata": {},
     "output_type": "execute_result"
    }
   ],
   "source": [
    "objA.__class__.age"
   ]
  },
  {
   "cell_type": "code",
   "execution_count": 17,
   "id": "a856c4a3-7668-45ff-afbe-634566ce8b6b",
   "metadata": {},
   "outputs": [
    {
     "data": {
      "text/plain": [
       "25"
      ]
     },
     "execution_count": 17,
     "metadata": {},
     "output_type": "execute_result"
    }
   ],
   "source": [
    "objA.__class__.age = 25\n",
    "objA.__class__.age"
   ]
  },
  {
   "cell_type": "markdown",
   "id": "85043657-308b-4776-8968-a521dfeca99d",
   "metadata": {},
   "source": [
    "### So, you can use it to implement singlton, but not recommended"
   ]
  },
  {
   "cell_type": "markdown",
   "id": "c57031c4-10cf-4385-8faf-c145e916c633",
   "metadata": {},
   "source": [
    "## Let's try MRO"
   ]
  },
  {
   "cell_type": "code",
   "execution_count": 18,
   "id": "8a08696f-4654-4b7c-851f-46654dc09092",
   "metadata": {},
   "outputs": [
    {
     "name": "stdout",
     "output_type": "stream",
     "text": [
      "A Class\n"
     ]
    }
   ],
   "source": [
    "class A:\n",
    "    @classmethod\n",
    "    def hello(self):\n",
    "        print(\"A Class\")\n",
    "\n",
    "\n",
    "class B(A):\n",
    "    pass\n",
    "\n",
    "\n",
    "class C:\n",
    "    def hello(self):\n",
    "        print(\"C\")\n",
    "\n",
    "\n",
    "class D(B, C):\n",
    "    pass\n",
    "\n",
    "\n",
    "obj = D()\n",
    "obj.hello()"
   ]
  }
 ],
 "metadata": {
  "kernelspec": {
   "display_name": "Python 3 (ipykernel)",
   "language": "python",
   "name": "python3"
  },
  "language_info": {
   "codemirror_mode": {
    "name": "ipython",
    "version": 3
   },
   "file_extension": ".py",
   "mimetype": "text/x-python",
   "name": "python",
   "nbconvert_exporter": "python",
   "pygments_lexer": "ipython3",
   "version": "3.8.19"
  }
 },
 "nbformat": 4,
 "nbformat_minor": 5
}
