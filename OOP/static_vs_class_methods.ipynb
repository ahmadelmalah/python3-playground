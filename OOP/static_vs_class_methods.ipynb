{
 "cells": [
  {
   "cell_type": "code",
   "execution_count": 1,
   "id": "e8385eea-a97e-46fb-a899-606eb841b35e",
   "metadata": {},
   "outputs": [],
   "source": [
    "class A:\n",
    "    def normal():\n",
    "        print(\"normal\")\n",
    "\n",
    "    # Instance method\n",
    "    def normal_with_param(self):\n",
    "        print(\"normal with param\", self)\n",
    "\n",
    "    @staticmethod\n",
    "    def static_method():\n",
    "        print(\"static methood\")\n",
    "\n",
    "    @staticmethod\n",
    "    def static_method_with_param(data):\n",
    "        print(\"static methood with param\", data)\n",
    "\n",
    "    @classmethod\n",
    "    def class_method():\n",
    "        print(\"class method\")\n",
    "\n",
    "    @classmethod\n",
    "    def class_method_with_param(cls):\n",
    "        print(\"class method with param\", cls)\n",
    "\n",
    "objA = A()"
   ]
  },
  {
   "cell_type": "code",
   "execution_count": 2,
   "id": "0de27fce-9a92-4a7d-bc53-b516d6572f91",
   "metadata": {},
   "outputs": [
    {
     "name": "stdout",
     "output_type": "stream",
     "text": [
      "normal\n",
      "normal() takes 0 positional arguments but 1 was given\n"
     ]
    }
   ],
   "source": [
    "# Trying normal\n",
    "A.normal()\n",
    "try:\n",
    "    objA.normal()\n",
    "except Exception as e:\n",
    "    print(e)"
   ]
  },
  {
   "cell_type": "code",
   "execution_count": 3,
   "id": "b69bce99-676f-40f6-ac65-4bdc0dbcd1ef",
   "metadata": {},
   "outputs": [
    {
     "name": "stdout",
     "output_type": "stream",
     "text": [
      "normal with param <__main__.A object at 0x7f7e6c50f400>\n",
      "normal with param <__main__.A object at 0x7f7e6c50f400>\n",
      "normal_with_param() missing 1 required positional argument: 'self'\n"
     ]
    }
   ],
   "source": [
    "# Trying normal with a param\n",
    "# It has to know the object\n",
    "objA.normal_with_param()\n",
    "A.normal_with_param(objA)\n",
    "# It throws, if it doesn't\n",
    "try:\n",
    "    A.normal_with_param()\n",
    "except Exception as e:\n",
    "    print(e)"
   ]
  },
  {
   "cell_type": "code",
   "execution_count": 4,
   "id": "43fadd14-9ca5-4a31-91fe-06161cdf6a81",
   "metadata": {},
   "outputs": [
    {
     "name": "stdout",
     "output_type": "stream",
     "text": [
      "static methood\n",
      "static methood\n"
     ]
    }
   ],
   "source": [
    "A.static_method()\n",
    "objA.static_method()"
   ]
  },
  {
   "cell_type": "code",
   "execution_count": 5,
   "id": "ccc58891-cf43-4355-9faf-b61ce1ad713c",
   "metadata": {},
   "outputs": [
    {
     "name": "stdout",
     "output_type": "stream",
     "text": [
      "static_method_with_param() missing 1 required positional argument: 'data'\n",
      "static_method_with_param() missing 1 required positional argument: 'data'\n"
     ]
    }
   ],
   "source": [
    "# Isn't sent automatically\n",
    "try:\n",
    "    objA.static_method_with_param()\n",
    "except Exception as e:\n",
    "    print(e)\n",
    "try:\n",
    "    A.static_method_with_param()\n",
    "except Exception as e:\n",
    "    print(e)"
   ]
  },
  {
   "cell_type": "code",
   "execution_count": 6,
   "id": "32e5e9aa-d667-4933-9ca3-48e5269452d3",
   "metadata": {},
   "outputs": [
    {
     "name": "stdout",
     "output_type": "stream",
     "text": [
      "static methood with param <__main__.A object at 0x7f7e6c50f400>\n",
      "static methood with param <__main__.A object at 0x7f7e6c50f400>\n"
     ]
    }
   ],
   "source": [
    "# but you can't send the object as a param\n",
    "objA.static_method_with_param(objA)\n",
    "A.static_method_with_param(objA)"
   ]
  },
  {
   "cell_type": "code",
   "execution_count": 7,
   "id": "bfcbfe68-a4ce-4175-8c06-24c4400d1c06",
   "metadata": {},
   "outputs": [
    {
     "name": "stdout",
     "output_type": "stream",
     "text": [
      "static methood with param <class '__main__.A'>\n",
      "static methood with param <class '__main__.A'>\n",
      "static methood with param <class '__main__.A'>\n",
      "static methood with param <class '__main__.A'>\n"
     ]
    }
   ],
   "source": [
    "# or the class\n",
    "objA.static_method_with_param(objA.__class__)\n",
    "objA.static_method_with_param(A)\n",
    "A.static_method_with_param(objA.__class__)\n",
    "A.static_method_with_param(A)"
   ]
  },
  {
   "cell_type": "code",
   "execution_count": 8,
   "id": "7fba8b52-b15d-4936-9bee-0780d8f570cd",
   "metadata": {},
   "outputs": [
    {
     "name": "stdout",
     "output_type": "stream",
     "text": [
      "class_method() takes 0 positional arguments but 1 was given\n",
      "class_method() takes 0 positional arguments but 1 was given\n"
     ]
    }
   ],
   "source": [
    "# as for class method, you can't use it without a param\n",
    "try:\n",
    "    objA.class_method()\n",
    "except Exception as e:\n",
    "    print(e)\n",
    "\n",
    "try:\n",
    "    A.class_method()\n",
    "except Exception as e:\n",
    "    print(e)"
   ]
  },
  {
   "cell_type": "code",
   "execution_count": 9,
   "id": "922d03a6-4116-4c04-ad7e-5824fa221be5",
   "metadata": {},
   "outputs": [
    {
     "name": "stdout",
     "output_type": "stream",
     "text": [
      "class method with param <class '__main__.A'>\n",
      "class method with param <class '__main__.A'>\n"
     ]
    }
   ],
   "source": [
    "objA.class_method_with_param()\n",
    "A.class_method_with_param()"
   ]
  }
 ],
 "metadata": {
  "kernelspec": {
   "display_name": "Python 3 (ipykernel)",
   "language": "python",
   "name": "python3"
  },
  "language_info": {
   "codemirror_mode": {
    "name": "ipython",
    "version": 3
   },
   "file_extension": ".py",
   "mimetype": "text/x-python",
   "name": "python",
   "nbconvert_exporter": "python",
   "pygments_lexer": "ipython3",
   "version": "3.8.19"
  }
 },
 "nbformat": 4,
 "nbformat_minor": 5
}
