{
 "cells": [
  {
   "cell_type": "markdown",
   "id": "9e06c56a-eb0a-467f-8991-da67c56377fc",
   "metadata": {},
   "source": [
    "## Decorated function"
   ]
  },
  {
   "cell_type": "code",
   "execution_count": 1,
   "id": "7bdac8b7-1e3d-40e0-bf05-16f341d3dc56",
   "metadata": {},
   "outputs": [
    {
     "name": "stdout",
     "output_type": "stream",
     "text": [
      "Calling function: add with arguments: (5, 3), and keyword arguments: {'just': 'testing'}\n",
      "Function add returned: 8\n"
     ]
    }
   ],
   "source": [
    "def logging_decorator(func):\n",
    "  \"\"\"Decorator that logs function calls\"\"\"\n",
    "  def wrapper(*args, **kwargs):\n",
    "    print(f\"Calling function: {func.__name__} with arguments: {args}, and keyword arguments: {kwargs}\")\n",
    "    result = func(*args, **kwargs)\n",
    "    print(f\"Function {func.__name__} returned: {result}\")\n",
    "    return result\n",
    "  return wrapper\n",
    "\n",
    "@logging_decorator\n",
    "def add(x, y, just=None):\n",
    "  \"\"\"Simple addition function\"\"\"\n",
    "  return x + y\n",
    "\n",
    "result = add(5, 3, just='testing')  # Output will be logged\n"
   ]
  },
  {
   "cell_type": "markdown",
   "id": "abe58372-f364-456e-b2ae-d3cb01ab1ddf",
   "metadata": {},
   "source": [
    "## Decorated Class"
   ]
  },
  {
   "cell_type": "code",
   "execution_count": 5,
   "id": "17be9e97-9e1e-42af-9422-c0e5f19b86b5",
   "metadata": {},
   "outputs": [
    {
     "name": "stdout",
     "output_type": "stream",
     "text": [
      "Modified class instance created for Ahmad\n",
      "Hello, Alice! I am Ahmad\n"
     ]
    }
   ],
   "source": [
    "# Define the class decorator\n",
    "class MyDecorator:\n",
    "    def __init__(self, student):\n",
    "        self.student = \"Ahmad\"\n",
    "\n",
    "    def __call__(self, original_class):\n",
    "        decorator_self = self  # Capture the decorator instance\n",
    "\n",
    "        # Define the modified class\n",
    "        class ModifiedClass(original_class):\n",
    "            def __init__(self, *args, **kwargs):\n",
    "                super().__init__(*args, **kwargs)\n",
    "                # Set the student attribute from the decorator instance\n",
    "                self.student = decorator_self.student\n",
    "                print(f\"Modified class instance created for {self.student}\")\n",
    "\n",
    "        return ModifiedClass\n",
    "\n",
    "# Example usage of the decorator\n",
    "@MyDecorator(student=\"Alice\")\n",
    "class MyClass:\n",
    "    def __init__(self, name):\n",
    "        self.name = name\n",
    "\n",
    "    def greet(self):\n",
    "        print(f\"Hello, {self.name}! I am {self.student}\")\n",
    "\n",
    "# Create an instance of the modified class\n",
    "alice_instance = MyClass(\"Alice\")\n",
    "alice_instance.greet()  # Output: \"Hello, Alice! I am Alice\"\n"
   ]
  },
  {
   "cell_type": "code",
   "execution_count": null,
   "id": "53fdc4c7-9dc0-4d95-a211-d71da35d0f93",
   "metadata": {},
   "outputs": [],
   "source": []
  }
 ],
 "metadata": {
  "kernelspec": {
   "display_name": "Python 3 (ipykernel)",
   "language": "python",
   "name": "python3"
  },
  "language_info": {
   "codemirror_mode": {
    "name": "ipython",
    "version": 3
   },
   "file_extension": ".py",
   "mimetype": "text/x-python",
   "name": "python",
   "nbconvert_exporter": "python",
   "pygments_lexer": "ipython3",
   "version": "3.8.19"
  }
 },
 "nbformat": 4,
 "nbformat_minor": 5
}
