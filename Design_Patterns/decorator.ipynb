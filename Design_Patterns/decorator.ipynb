{
 "cells": [
  {
   "cell_type": "markdown",
   "id": "9e06c56a-eb0a-467f-8991-da67c56377fc",
   "metadata": {},
   "source": [
    "## Decorated function"
   ]
  },
  {
   "cell_type": "code",
   "execution_count": 1,
   "id": "7bdac8b7-1e3d-40e0-bf05-16f341d3dc56",
   "metadata": {},
   "outputs": [
    {
     "name": "stdout",
     "output_type": "stream",
     "text": [
      "Calling function: add with arguments: (5, 3), and keyword arguments: {'just': 'testing'}\n",
      "Function add returned: 8\n"
     ]
    }
   ],
   "source": [
    "def logging_decorator(func):\n",
    "  \"\"\"Decorator that logs function calls\"\"\"\n",
    "  def wrapper(*args, **kwargs):\n",
    "    print(f\"Calling function: {func.__name__} with arguments: {args}, and keyword arguments: {kwargs}\")\n",
    "    result = func(*args, **kwargs)\n",
    "    print(f\"Function {func.__name__} returned: {result}\")\n",
    "    return result\n",
    "  return wrapper\n",
    "\n",
    "@logging_decorator\n",
    "def add(x, y, just=None):\n",
    "  \"\"\"Simple addition function\"\"\"\n",
    "  return x + y\n",
    "\n",
    "result = add(5, 3, just='testing')  # Output will be logged\n"
   ]
  },
  {
   "cell_type": "markdown",
   "id": "abe58372-f364-456e-b2ae-d3cb01ab1ddf",
   "metadata": {},
   "source": [
    "## Decorated Class"
   ]
  },
  {
   "cell_type": "code",
   "execution_count": 2,
   "id": "17be9e97-9e1e-42af-9422-c0e5f19b86b5",
   "metadata": {},
   "outputs": [
    {
     "name": "stdout",
     "output_type": "stream",
     "text": [
      "Modified class instance created for Ahmad\n",
      "Hello, Alice! I am Ahmad\n"
     ]
    }
   ],
   "source": [
    "# Define the class decorator\n",
    "class MyDecorator:\n",
    "    def __init__(self, student):\n",
    "        self.student = \"Ahmad\"\n",
    "\n",
    "    def __call__(self, original_class):\n",
    "        decorator_self = self  # Capture the decorator instance\n",
    "\n",
    "        # Define the modified class\n",
    "        class ModifiedClass(original_class):\n",
    "            def __init__(self, *args, **kwargs):\n",
    "                super().__init__(*args, **kwargs)\n",
    "                # Set the student attribute from the decorator instance\n",
    "                self.student = decorator_self.student\n",
    "                print(f\"Modified class instance created for {self.student}\")\n",
    "\n",
    "        return ModifiedClass\n",
    "\n",
    "# Example usage of the decorator\n",
    "@MyDecorator(student=\"Alice\")\n",
    "class MyClass:\n",
    "    def __init__(self, name):\n",
    "        self.name = name\n",
    "\n",
    "    def greet(self):\n",
    "        print(f\"Hello, {self.name}! I am {self.student}\")\n",
    "\n",
    "# Create an instance of the modified class\n",
    "alice_instance = MyClass(\"Alice\")\n",
    "alice_instance.greet()  # Output: \"Hello, Alice! I am Alice\"\n"
   ]
  },
  {
   "cell_type": "markdown",
   "id": "5c9ef66c-254d-40cd-9ea8-901a35d0deaa",
   "metadata": {},
   "source": [
    "## Decorators Chaining"
   ]
  },
  {
   "cell_type": "markdown",
   "id": "d1f34117-e7f1-449f-ac2e-701a4e86e326",
   "metadata": {},
   "source": [
    "### Decorator runs once you decorate a function, even before calling it"
   ]
  },
  {
   "cell_type": "code",
   "execution_count": 3,
   "id": "455b5925-d812-4744-9149-a078c73f1aba",
   "metadata": {},
   "outputs": [
    {
     "name": "stdout",
     "output_type": "stream",
     "text": [
      "decorator_inner is invoked by: <function add at 0x7fbf88488670>\n",
      "decorator_outter is invoked by: <function decorator_inner.<locals>.wrapper at 0x7fbf88488790>\n"
     ]
    }
   ],
   "source": [
    "def decorator_outter(func):\n",
    "  print('decorator_outter is invoked by:', func)\n",
    "  def wrapper(*args, **kwargs):\n",
    "      print('decorator_outter is handling', func)\n",
    "      return func(*args, **kwargs)\n",
    "  return wrapper\n",
    "    \n",
    "def decorator_inner(func):\n",
    "  print('decorator_inner is invoked by:', func)\n",
    "  def wrapper(*args, **kwargs):\n",
    "      print('decorator_inner is handling', func)\n",
    "      return func(*args, **kwargs)\n",
    "  return wrapper\n",
    "\n",
    "@decorator_outter\n",
    "@decorator_inner\n",
    "def add():\n",
    "  print(\"add logic excuted\")"
   ]
  },
  {
   "cell_type": "markdown",
   "id": "2bab1adf-d8be-4ba5-b975-4ec7835b267f",
   "metadata": {},
   "source": [
    "### Notice that they're invoked from inner to outer, but excuted from outter to inner"
   ]
  },
  {
   "cell_type": "code",
   "execution_count": 4,
   "id": "ffd10fa5-f9e2-4e11-b532-2f78af8d234d",
   "metadata": {},
   "outputs": [
    {
     "name": "stdout",
     "output_type": "stream",
     "text": [
      "decorator_outter is handling <function decorator_inner.<locals>.wrapper at 0x7fbf88488790>\n",
      "decorator_inner is handling <function add at 0x7fbf88488670>\n",
      "add logic excuted\n"
     ]
    }
   ],
   "source": [
    "add()"
   ]
  },
  {
   "cell_type": "markdown",
   "id": "b9929959-47a7-4644-87b0-44d9401bfba8",
   "metadata": {},
   "source": [
    "### Also, we can make a decorator decorates a decorator which changle the flow a little"
   ]
  },
  {
   "cell_type": "code",
   "execution_count": 5,
   "id": "2f3a9f6c-2c24-4ac1-b908-bea8aed67822",
   "metadata": {},
   "outputs": [
    {
     "name": "stdout",
     "output_type": "stream",
     "text": [
      "decorator_outter is invoked by: <function decorator_inner at 0x7fbf884cdee0>\n",
      "decorator_outter is handling <function decorator_inner at 0x7fbf884cdee0>\n",
      "decorator_inner is invoked by: <function add at 0x7fbf8846f8b0>\n"
     ]
    }
   ],
   "source": [
    "def decorator_outter(func):\n",
    "  print('decorator_outter is invoked by:', func)\n",
    "  def wrapper(*args, **kwargs):\n",
    "      print('decorator_outter is handling', func)\n",
    "      return func(*args, **kwargs)\n",
    "  return wrapper\n",
    "\n",
    "@decorator_outter\n",
    "def decorator_inner(func):\n",
    "  print('decorator_inner is invoked by:', func)\n",
    "  def wrapper(*args, **kwargs):\n",
    "      print('decorator_inner is handling', func)\n",
    "      return func(*args, **kwargs)\n",
    "  return wrapper\n",
    "\n",
    "@decorator_inner\n",
    "def add():\n",
    "  print(\"add logic excuted\")"
   ]
  },
  {
   "cell_type": "code",
   "execution_count": 6,
   "id": "7e191ab8-38cc-4f17-94c2-07dad430e223",
   "metadata": {},
   "outputs": [
    {
     "name": "stdout",
     "output_type": "stream",
     "text": [
      "decorator_inner is handling <function add at 0x7fbf8846f8b0>\n",
      "add logic excuted\n"
     ]
    }
   ],
   "source": [
    "add()"
   ]
  }
 ],
 "metadata": {
  "kernelspec": {
   "display_name": "Python 3 (ipykernel)",
   "language": "python",
   "name": "python3"
  },
  "language_info": {
   "codemirror_mode": {
    "name": "ipython",
    "version": 3
   },
   "file_extension": ".py",
   "mimetype": "text/x-python",
   "name": "python",
   "nbconvert_exporter": "python",
   "pygments_lexer": "ipython3",
   "version": "3.8.19"
  }
 },
 "nbformat": 4,
 "nbformat_minor": 5
}
