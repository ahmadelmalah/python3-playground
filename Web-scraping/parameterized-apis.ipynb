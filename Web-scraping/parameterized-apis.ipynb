{
 "cells": [
  {
   "cell_type": "code",
   "execution_count": 1,
   "id": "7817d5be-bf6a-4845-9cc5-7490f91bf044",
   "metadata": {},
   "outputs": [],
   "source": [
    "# Import the libraries\n",
    "import requests\n",
    "import urllib\n",
    "import json\n",
    "import pandas as pd"
   ]
  },
  {
   "cell_type": "code",
   "execution_count": 2,
   "id": "9debcc61-1ae2-4893-9dbe-7a7b40a322a0",
   "metadata": {
    "tags": []
   },
   "outputs": [],
   "source": [
    "# Function to put together the API query\n",
    "def getRequestUrl():\n",
    "    url = \"http://api.tvmaze.com/singlesearch/shows?\"\n",
    "    params = {\"q\":          \"rick-&-morty\",\n",
    "              \"embed\":      \"episodes\"}\n",
    "    request = url + urllib.parse.unquote(urllib.parse.urlencode(params))\n",
    "    return request"
   ]
  },
  {
   "cell_type": "code",
   "execution_count": 3,
   "id": "e3b4b940-e6d2-4360-8c36-def6ce83e735",
   "metadata": {
    "tags": []
   },
   "outputs": [],
   "source": [
    "# Function to call the API with the given query URL\n",
    "def getApiData(requestUrl):\n",
    "    # Call the api\n",
    "    response = requests.get(requestUrl)\n",
    "    \n",
    "    # Extract the text from the response\n",
    "    data = json.loads(response.text)\n",
    "    \n",
    "    # Get the actual data (as specfied in the TV Maze api)\n",
    "    results = data[\"_embedded\"][\"episodes\"]\n",
    "    \n",
    "    # Get other information (as specfied in the TV Maze api)\n",
    "    showtype = data[\"type\"]\n",
    "    genres = data[\"genres\"]\n",
    "    \n",
    "    print(\"Response: show type {}, genres {}\".format(showtype, genres))\n",
    "    \n",
    "    return results"
   ]
  },
  {
   "cell_type": "code",
   "execution_count": 4,
   "id": "54632f4b-84de-44c6-bf9a-4ef7df703669",
   "metadata": {
    "tags": []
   },
   "outputs": [
    {
     "data": {
      "text/plain": [
       "'http://api.tvmaze.com/singlesearch/shows?q=rick-&-morty&embed=episodes'"
      ]
     },
     "execution_count": 4,
     "metadata": {},
     "output_type": "execute_result"
    }
   ],
   "source": [
    "requestUrl = getRequestUrl()\n",
    "requestUrl"
   ]
  },
  {
   "cell_type": "code",
   "execution_count": 5,
   "id": "26415bc6-339a-4b19-b92b-52e8b97233b9",
   "metadata": {
    "tags": []
   },
   "outputs": [
    {
     "name": "stdout",
     "output_type": "stream",
     "text": [
      "Response: show type Talk Show, genres []\n"
     ]
    },
    {
     "data": {
      "text/html": [
       "<div>\n",
       "<style scoped>\n",
       "    .dataframe tbody tr th:only-of-type {\n",
       "        vertical-align: middle;\n",
       "    }\n",
       "\n",
       "    .dataframe tbody tr th {\n",
       "        vertical-align: top;\n",
       "    }\n",
       "\n",
       "    .dataframe thead th {\n",
       "        text-align: right;\n",
       "    }\n",
       "</style>\n",
       "<table border=\"1\" class=\"dataframe\">\n",
       "  <thead>\n",
       "    <tr style=\"text-align: right;\">\n",
       "      <th></th>\n",
       "      <th>id</th>\n",
       "      <th>url</th>\n",
       "      <th>name</th>\n",
       "      <th>season</th>\n",
       "      <th>number</th>\n",
       "      <th>type</th>\n",
       "      <th>airdate</th>\n",
       "      <th>airtime</th>\n",
       "      <th>airstamp</th>\n",
       "      <th>runtime</th>\n",
       "      <th>rating</th>\n",
       "      <th>image</th>\n",
       "      <th>summary</th>\n",
       "      <th>_links</th>\n",
       "    </tr>\n",
       "  </thead>\n",
       "  <tbody>\n",
       "    <tr>\n",
       "      <th>0</th>\n",
       "      <td>363093</td>\n",
       "      <td>https://www.tvmaze.com/episodes/363093/ricki-l...</td>\n",
       "      <td>Pilot</td>\n",
       "      <td>1</td>\n",
       "      <td>1</td>\n",
       "      <td>regular</td>\n",
       "      <td>1993-09-13</td>\n",
       "      <td>17:00</td>\n",
       "      <td>1993-09-13T21:00:00+00:00</td>\n",
       "      <td>60</td>\n",
       "      <td>{'average': None}</td>\n",
       "      <td>None</td>\n",
       "      <td></td>\n",
       "      <td>{'self': {'href': 'https://api.tvmaze.com/epis...</td>\n",
       "    </tr>\n",
       "    <tr>\n",
       "      <th>1</th>\n",
       "      <td>363094</td>\n",
       "      <td>https://www.tvmaze.com/episodes/363094/ricki-l...</td>\n",
       "      <td>Season 12, Episode 73</td>\n",
       "      <td>12</td>\n",
       "      <td>73</td>\n",
       "      <td>regular</td>\n",
       "      <td>2004-05-26</td>\n",
       "      <td>17:00</td>\n",
       "      <td>2004-05-26T21:00:00+00:00</td>\n",
       "      <td>60</td>\n",
       "      <td>{'average': None}</td>\n",
       "      <td>None</td>\n",
       "      <td></td>\n",
       "      <td>{'self': {'href': 'https://api.tvmaze.com/epis...</td>\n",
       "    </tr>\n",
       "  </tbody>\n",
       "</table>\n",
       "</div>"
      ],
      "text/plain": [
       "       id                                                url  \\\n",
       "0  363093  https://www.tvmaze.com/episodes/363093/ricki-l...   \n",
       "1  363094  https://www.tvmaze.com/episodes/363094/ricki-l...   \n",
       "\n",
       "                    name  season  number     type     airdate airtime  \\\n",
       "0                  Pilot       1       1  regular  1993-09-13   17:00   \n",
       "1  Season 12, Episode 73      12      73  regular  2004-05-26   17:00   \n",
       "\n",
       "                    airstamp  runtime             rating image summary  \\\n",
       "0  1993-09-13T21:00:00+00:00       60  {'average': None}  None           \n",
       "1  2004-05-26T21:00:00+00:00       60  {'average': None}  None           \n",
       "\n",
       "                                              _links  \n",
       "0  {'self': {'href': 'https://api.tvmaze.com/epis...  \n",
       "1  {'self': {'href': 'https://api.tvmaze.com/epis...  "
      ]
     },
     "execution_count": 5,
     "metadata": {},
     "output_type": "execute_result"
    }
   ],
   "source": [
    "# Code to get the data\n",
    "\n",
    "requestUrl = getRequestUrl()\n",
    "results = getApiData(requestUrl)\n",
    "\n",
    "df = pd.DataFrame(results)\n",
    "df.head()"
   ]
  },
  {
   "cell_type": "code",
   "execution_count": null,
   "id": "ee681662-4c67-4963-99bb-5b9489778717",
   "metadata": {},
   "outputs": [],
   "source": []
  }
 ],
 "metadata": {
  "kernelspec": {
   "display_name": "Python 3 (ipykernel)",
   "language": "python",
   "name": "python3"
  },
  "language_info": {
   "codemirror_mode": {
    "name": "ipython",
    "version": 3
   },
   "file_extension": ".py",
   "mimetype": "text/x-python",
   "name": "python",
   "nbconvert_exporter": "python",
   "pygments_lexer": "ipython3",
   "version": "3.11.5"
  }
 },
 "nbformat": 4,
 "nbformat_minor": 5
}
