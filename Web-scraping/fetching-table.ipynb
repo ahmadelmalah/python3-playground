{
 "cells": [
  {
   "cell_type": "code",
   "execution_count": 2,
   "id": "e8c6a790-1893-4ffc-aa67-7fb3108603e0",
   "metadata": {
    "tags": []
   },
   "outputs": [],
   "source": [
    "# Load the libraries we need\n",
    "from bs4 import *\n",
    "import urllib3\n",
    "import pandas as pd\n",
    "from scrape_helper import *"
   ]
  },
  {
   "cell_type": "code",
   "execution_count": 3,
   "id": "0eee19f5-31cc-405a-bd80-e0def38140bf",
   "metadata": {
    "tags": []
   },
   "outputs": [
    {
     "data": {
      "text/html": [
       "<div>\n",
       "<style scoped>\n",
       "    .dataframe tbody tr th:only-of-type {\n",
       "        vertical-align: middle;\n",
       "    }\n",
       "\n",
       "    .dataframe tbody tr th {\n",
       "        vertical-align: top;\n",
       "    }\n",
       "\n",
       "    .dataframe thead th {\n",
       "        text-align: right;\n",
       "    }\n",
       "</style>\n",
       "<table border=\"1\" class=\"dataframe\">\n",
       "  <thead>\n",
       "    <tr style=\"text-align: right;\">\n",
       "      <th></th>\n",
       "      <th>Index</th>\n",
       "      <th>Robot</th>\n",
       "      <th>Student</th>\n",
       "      <th>Time</th>\n",
       "      <th>Penalties</th>\n",
       "      <th>Total time</th>\n",
       "    </tr>\n",
       "  </thead>\n",
       "  <tbody>\n",
       "    <tr>\n",
       "      <th>0</th>\n",
       "      <td></td>\n",
       "      <td>Jurgen</td>\n",
       "      <td>Darren</td>\n",
       "      <td>00:22</td>\n",
       "      <td>0</td>\n",
       "      <td>00:22</td>\n",
       "    </tr>\n",
       "    <tr>\n",
       "      <th>1</th>\n",
       "      <td></td>\n",
       "      <td>Gemma</td>\n",
       "      <td>Joe W (driving Ali’s robot!)</td>\n",
       "      <td>00:19</td>\n",
       "      <td>1</td>\n",
       "      <td>00:22</td>\n",
       "    </tr>\n",
       "    <tr>\n",
       "      <th>2</th>\n",
       "      <td></td>\n",
       "      <td>Clunk</td>\n",
       "      <td>Zack</td>\n",
       "      <td>00:21</td>\n",
       "      <td>1</td>\n",
       "      <td>00:24</td>\n",
       "    </tr>\n",
       "    <tr>\n",
       "      <th>3</th>\n",
       "      <td></td>\n",
       "      <td>Raptor</td>\n",
       "      <td>Darren</td>\n",
       "      <td>00:27</td>\n",
       "      <td>0</td>\n",
       "      <td>00:27</td>\n",
       "    </tr>\n",
       "    <tr>\n",
       "      <th>4</th>\n",
       "      <td></td>\n",
       "      <td>Norbert</td>\n",
       "      <td>Leo</td>\n",
       "      <td>00:28</td>\n",
       "      <td>0</td>\n",
       "      <td>00:28</td>\n",
       "    </tr>\n",
       "  </tbody>\n",
       "</table>\n",
       "</div>"
      ],
      "text/plain": [
       "  Index    Robot                       Student   Time Penalties Total time\n",
       "0         Jurgen                        Darren  00:22         0      00:22\n",
       "1          Gemma  Joe W (driving Ali’s robot!)  00:19         1      00:22\n",
       "2          Clunk                          Zack  00:21         1      00:24\n",
       "3         Raptor                        Darren  00:27         0      00:27\n",
       "4        Norbert                           Leo  00:28         0      00:28"
      ]
     },
     "execution_count": 3,
     "metadata": {},
     "output_type": "execute_result"
    }
   ],
   "source": [
    "# This is the web page we will pull data from\n",
    "url = \"https://www.thinkcreatelearn.co.uk/resources/web-scraping-samples/sample4.html\"\n",
    "\n",
    "# Pull the date from the web page\n",
    "http = urllib3.PoolManager()\n",
    "response = http.request('GET', url)\n",
    "\n",
    "# Create a Beautiful Soup object, passing in the page data\n",
    "soup = BeautifulSoup(response.data, \"lxml\")\n",
    "\n",
    "# Find the first table in the document using our function above\n",
    "table = soup.find('table')\n",
    "df = tableToDataFrame(table)\n",
    "df.head()"
   ]
  },
  {
   "cell_type": "code",
   "execution_count": null,
   "id": "1d3de188-12cc-4e9b-a941-246aa32c48b5",
   "metadata": {},
   "outputs": [],
   "source": []
  }
 ],
 "metadata": {
  "kernelspec": {
   "display_name": "Python 3 (ipykernel)",
   "language": "python",
   "name": "python3"
  },
  "language_info": {
   "codemirror_mode": {
    "name": "ipython",
    "version": 3
   },
   "file_extension": ".py",
   "mimetype": "text/x-python",
   "name": "python",
   "nbconvert_exporter": "python",
   "pygments_lexer": "ipython3",
   "version": "3.11.5"
  }
 },
 "nbformat": 4,
 "nbformat_minor": 5
}
