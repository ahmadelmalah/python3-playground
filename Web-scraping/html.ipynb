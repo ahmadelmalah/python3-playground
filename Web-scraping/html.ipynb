{
 "cells": [
  {
   "cell_type": "code",
   "execution_count": 1,
   "id": "f8c2f73a-4bea-4b96-9e4d-2ef2c048c2ba",
   "metadata": {
    "tags": []
   },
   "outputs": [
    {
     "data": {
      "text/plain": [
       "200"
      ]
     },
     "execution_count": 1,
     "metadata": {},
     "output_type": "execute_result"
    }
   ],
   "source": [
    "import requests\n",
    "r = requests.get('https://www.borrowmydoggy.com/')\n",
    "r.status_code"
   ]
  },
  {
   "cell_type": "code",
   "execution_count": 2,
   "id": "a7f62853",
   "metadata": {
    "tags": []
   },
   "outputs": [
    {
     "data": {
      "text/plain": [
       "{'Report-To': '{\"group\":\"heroku-nel\",\"max_age\":3600,\"endpoints\":[{\"url\":\"https://nel.heroku.com/reports?ts=1702120897&sid=812dcc77-0bd0-43b1-a5f1-b25750382959&s=Cw2%2BkRQJtoWASkbsBLU1yYkDRA%2FOPjfcYxm5pbpOXu4%3D\"}]}', 'Reporting-Endpoints': 'heroku-nel=https://nel.heroku.com/reports?ts=1702120897&sid=812dcc77-0bd0-43b1-a5f1-b25750382959&s=Cw2%2BkRQJtoWASkbsBLU1yYkDRA%2FOPjfcYxm5pbpOXu4%3D', 'Nel': '{\"report_to\":\"heroku-nel\",\"max_age\":3600,\"success_fraction\":0.005,\"failure_fraction\":0.05,\"response_headers\":[\"Via\"]}', 'Connection': 'keep-alive', 'Server': 'nginx', 'Date': 'Sat, 09 Dec 2023 11:21:37 GMT', 'Content-Type': 'text/html; charset=utf-8', 'Transfer-Encoding': 'chunked', 'X-Frame-Options': 'SAMEORIGIN', 'X-Xss-Protection': '1; mode=block', 'X-Content-Type-Options': 'nosniff', 'X-Download-Options': 'noopen', 'X-Permitted-Cross-Domain-Policies': 'none', 'Referrer-Policy': 'strict-origin-when-cross-origin', 'Vary': 'Accept,Accept-Encoding', 'Etag': 'W/\"8c332cb3cc073f7156ed164f64274036\"', 'Cache-Control': 'max-age=0, private, must-revalidate', 'Content-Security-Policy': '', 'Set-Cookie': 'user_tracking_id=eyJfcmFpbHMiOnsibWVzc2FnZSI6IklqTTBZbU14T1dVNUxUVmtOell0TkdWbU55MWhORGt6TFRFeU1XSmpPRGMzWkRGaVpDST0iLCJleHAiOiIyMDI0LTAxLTA5VDExOjIxOjM3LjYxOVoiLCJwdXIiOm51bGx9fQ%3D%3D--4ed8542971f13e9865eec8fdb9a02cbd27de2d24; path=/; expires=Tue, 09 Jan 2024 11:21:37 GMT; Secure; SameSite=None, _session_id=58a110f574d5f9e1ecee9ca436c80666; path=/; expires=Sat, 16 Dec 2023 11:21:37 GMT; secure; HttpOnly; SameSite=None', 'X-Request-Id': '640f6dc2-86ae-4f14-8f9a-a8bbb935ef74', 'X-Runtime': '0.024438', 'Strict-Transport-Security': 'max-age=63072000; includeSubDomains', 'Content-Encoding': 'gzip', 'Via': '1.1 vegur'}"
      ]
     },
     "execution_count": 2,
     "metadata": {},
     "output_type": "execute_result"
    }
   ],
   "source": [
    "r.headers"
   ]
  },
  {
   "cell_type": "code",
   "execution_count": 3,
   "id": "772ed95d-84f9-4fa8-ad82-d77acecf2e44",
   "metadata": {
    "tags": []
   },
   "outputs": [
    {
     "data": {
      "text/plain": [
       "'text/html; charset=utf-8'"
      ]
     },
     "execution_count": 3,
     "metadata": {},
     "output_type": "execute_result"
    }
   ],
   "source": [
    "r.headers['content-type']"
   ]
  },
  {
   "cell_type": "code",
   "execution_count": 4,
   "id": "20590d38-bc45-42e1-8c03-b74982bff5cf",
   "metadata": {
    "tags": []
   },
   "outputs": [
    {
     "data": {
      "text/plain": [
       "'utf-8'"
      ]
     },
     "execution_count": 4,
     "metadata": {},
     "output_type": "execute_result"
    }
   ],
   "source": [
    "r.encoding"
   ]
  },
  {
   "cell_type": "code",
   "execution_count": 6,
   "id": "be4f4c5c-03d4-47f1-b0af-e0319b59e633",
   "metadata": {
    "tags": []
   },
   "outputs": [
    {
     "data": {
      "text/plain": [
       "\"<!DOCTYPE html>\\n<meta content='IE=edge,chrome=1' http-equiv='X-UA-Compatible'>\\n<html lang='en'>\\n<hea\""
      ]
     },
     "execution_count": 6,
     "metadata": {},
     "output_type": "execute_result"
    }
   ],
   "source": [
    "r.text[:100]"
   ]
  },
  {
   "cell_type": "code",
   "execution_count": 9,
   "id": "47d59d39-4e0d-4939-88bc-5528a81bd703",
   "metadata": {
    "tags": []
   },
   "outputs": [],
   "source": [
    "import os\n",
    "f = open(\"doggy.html\", \"w\")\n",
    "f.write(r.text)\n",
    "f.close()"
   ]
  },
  {
   "cell_type": "code",
   "execution_count": null,
   "id": "99b055a4-bb3f-4f0b-8673-fe42e3e75b90",
   "metadata": {},
   "outputs": [],
   "source": []
  }
 ],
 "metadata": {
  "kernelspec": {
   "display_name": "Python 3 (ipykernel)",
   "language": "python",
   "name": "python3"
  },
  "language_info": {
   "codemirror_mode": {
    "name": "ipython",
    "version": 3
   },
   "file_extension": ".py",
   "mimetype": "text/x-python",
   "name": "python",
   "nbconvert_exporter": "python",
   "pygments_lexer": "ipython3",
   "version": "3.11.5"
  }
 },
 "nbformat": 4,
 "nbformat_minor": 5
}
