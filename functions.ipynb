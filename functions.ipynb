{
 "cells": [
  {
   "cell_type": "markdown",
   "id": "581141fa-c69a-4003-9e28-5c8425b23e1a",
   "metadata": {},
   "source": [
    "### Keyworded args (no need to be ordered)"
   ]
  },
  {
   "cell_type": "code",
   "execution_count": 1,
   "id": "87728a63-6b64-42f2-8927-5398d8e07b44",
   "metadata": {
    "tags": []
   },
   "outputs": [
    {
     "name": "stdout",
     "output_type": "stream",
     "text": [
      "\n",
      "I have a hamster.\n",
      "My hamster's name is Harry.\n"
     ]
    }
   ],
   "source": [
    "def describe_pet(animal_type, pet_name):\n",
    "    \"\"\"Displays information about a pet.\"\"\"\n",
    "    print(f\"\\nI have a {animal_type}.\")\n",
    "    print(f\"My {animal_type}'s name is {pet_name.title()}.\")\n",
    "    \n",
    "describe_pet(pet_name='harry', animal_type='hamster')"
   ]
  },
  {
   "cell_type": "markdown",
   "id": "5dd1f861-b2a3-4e27-af4b-708c148728d8",
   "metadata": {},
   "source": [
    "### By value or by reference"
   ]
  },
  {
   "cell_type": "code",
   "execution_count": 2,
   "id": "df013a52-e92b-4782-aded-45196f502bd8",
   "metadata": {
    "tags": []
   },
   "outputs": [
    {
     "name": "stdout",
     "output_type": "stream",
     "text": [
      "['changed', 2, 3]\n",
      "[1, 2, 3]\n"
     ]
    }
   ],
   "source": [
    "def changeList(myList):\n",
    "    myList[0] = 'changed'\n",
    "    \n",
    "myList = [1,2,3]\n",
    "changeList(myList)\n",
    "print(myList)\n",
    "\n",
    "myList = [1,2,3]\n",
    "changeList(myList[:])\n",
    "print(myList)"
   ]
  },
  {
   "cell_type": "markdown",
   "id": "dbc1b169-88b3-41f2-8d1d-3b42e3676e3f",
   "metadata": {},
   "source": [
    "### Arbitary Arguments"
   ]
  },
  {
   "cell_type": "code",
   "execution_count": 3,
   "id": "07459b32-7785-4f8e-91b6-8c6d887974b2",
   "metadata": {
    "tags": []
   },
   "outputs": [
    {
     "name": "stdout",
     "output_type": "stream",
     "text": [
      "('mushrooms', 'green peppers', 'extra cheese')\n",
      "<class 'tuple'>\n"
     ]
    }
   ],
   "source": [
    "def make_pizza(*toppings):\n",
    "    \"\"\"Print the list of toppings that have been requested.\"\"\"\n",
    "    print(toppings)\n",
    "    print(type(toppings))\n",
    "    \n",
    "make_pizza('mushrooms', 'green peppers', 'extra cheese')"
   ]
  },
  {
   "cell_type": "markdown",
   "id": "4db1c5da-dfcd-46c9-9694-9e16cbe2ce41",
   "metadata": {},
   "source": [
    "### Arbitary keyworded arguments"
   ]
  },
  {
   "cell_type": "code",
   "execution_count": 4,
   "id": "6e907b43-37d8-40ad-aa6b-5b0b3c69685a",
   "metadata": {
    "tags": []
   },
   "outputs": [
    {
     "name": "stdout",
     "output_type": "stream",
     "text": [
      "<class 'dict'>\n",
      "{'location': 'princeton', 'field': 'physics', 'first_name': 'albert', 'last_name': 'einstein'}\n"
     ]
    }
   ],
   "source": [
    "def build_profile(first, last, **user_info):\n",
    "    \"\"\"Build a dictionary containing everything we know about a user.\"\"\"\n",
    "    user_info['first_name'] = first\n",
    "    user_info['last_name'] = last\n",
    "    print(type(user_info))\n",
    "    return user_info\n",
    "user_profile = build_profile('albert', 'einstein',\n",
    "location='princeton',\n",
    "field='physics')\n",
    "print(user_profile)"
   ]
  },
  {
   "cell_type": "markdown",
   "id": "ba5e10c8",
   "metadata": {},
   "source": [
    "### Nested functions"
   ]
  },
  {
   "cell_type": "code",
   "execution_count": 5,
   "id": "b8fd910d",
   "metadata": {},
   "outputs": [
    {
     "name": "stdout",
     "output_type": "stream",
     "text": [
      "1 2 3\n"
     ]
    }
   ],
   "source": [
    "z = 3\n",
    "def level1():\n",
    "    x = 1\n",
    "    def level2():\n",
    "        y = 2\n",
    "        def level3():\n",
    "            print(x, y, z)\n",
    "        level3()\n",
    "    level2()\n",
    "level1()\n"
   ]
  },
  {
   "cell_type": "markdown",
   "id": "f3a8a102",
   "metadata": {},
   "source": [
    "### Lamda Function"
   ]
  },
  {
   "cell_type": "code",
   "execution_count": 6,
   "id": "49ad3c6c",
   "metadata": {},
   "outputs": [
    {
     "name": "stdout",
     "output_type": "stream",
     "text": [
      "6\n",
      "11\n"
     ]
    }
   ],
   "source": [
    "def adder(number):\n",
    "    return lambda x: x + number\n",
    "\n",
    "\n",
    "add_5 = adder(5)\n",
    "add_10 = adder(10)\n",
    "\n",
    "print(add_5(1))\n",
    "print(add_10(1))"
   ]
  },
  {
   "cell_type": "code",
   "execution_count": null,
   "id": "688b6ce0",
   "metadata": {},
   "outputs": [],
   "source": []
  }
 ],
 "metadata": {
  "kernelspec": {
   "display_name": "Python 3",
   "language": "python",
   "name": "python3"
  },
  "language_info": {
   "codemirror_mode": {
    "name": "ipython",
    "version": 3
   },
   "file_extension": ".py",
   "mimetype": "text/x-python",
   "name": "python",
   "nbconvert_exporter": "python",
   "pygments_lexer": "ipython3",
   "version": "3.10.12"
  }
 },
 "nbformat": 4,
 "nbformat_minor": 5
}
