{
 "cells": [
  {
   "cell_type": "markdown",
   "id": "f8bca536-1bf2-4c4c-80f8-f4cb43fee1ce",
   "metadata": {},
   "source": [
    "##### sort() works in place, is a member of list class, and returns nothing"
   ]
  },
  {
   "cell_type": "code",
   "execution_count": 18,
   "id": "20f7693a-76e9-4374-95b2-c2c9b62c7b04",
   "metadata": {
    "tags": []
   },
   "outputs": [
    {
     "data": {
      "text/plain": [
       "[1, 2, 3]"
      ]
     },
     "execution_count": 18,
     "metadata": {},
     "output_type": "execute_result"
    }
   ],
   "source": [
    "x = [1, 3, 2]\n",
    "x.sort()\n",
    "x"
   ]
  },
  {
   "cell_type": "code",
   "execution_count": 19,
   "id": "54768cdd-5d1d-4ea7-bb60-3969745d124f",
   "metadata": {
    "tags": []
   },
   "outputs": [
    {
     "data": {
      "text/plain": [
       "[1, 3, 2]"
      ]
     },
     "execution_count": 19,
     "metadata": {},
     "output_type": "execute_result"
    }
   ],
   "source": [
    "x = [1, 3, 2]\n",
    "y = sorted(x)\n",
    "x"
   ]
  },
  {
   "cell_type": "markdown",
   "id": "0f4a0fc6-4e8e-40c4-b6a0-ad753a098943",
   "metadata": {},
   "source": [
    "##### pop() returns the removed item, while remove() doesn't"
   ]
  },
  {
   "cell_type": "code",
   "execution_count": 20,
   "id": "709d4be2-a70d-4151-865e-32ea9987430f",
   "metadata": {
    "tags": []
   },
   "outputs": [
    {
     "data": {
      "text/plain": [
       "3"
      ]
     },
     "execution_count": 20,
     "metadata": {},
     "output_type": "execute_result"
    }
   ],
   "source": [
    "x = [1, 3, 2]\n",
    "x.pop(1)"
   ]
  },
  {
   "cell_type": "code",
   "execution_count": 21,
   "id": "2a9fd176-4dd1-461a-8dca-5ef76f324bcf",
   "metadata": {
    "tags": []
   },
   "outputs": [
    {
     "data": {
      "text/plain": [
       "[1, 2]"
      ]
     },
     "execution_count": 21,
     "metadata": {},
     "output_type": "execute_result"
    }
   ],
   "source": [
    "x = [1, 3, 2]\n",
    "x.remove(3)\n",
    "x"
   ]
  },
  {
   "cell_type": "markdown",
   "id": "b3f889ac-5d08-4217-af40-acd22b4edc1c",
   "metadata": {
    "tags": []
   },
   "source": [
    "##### The same, right?"
   ]
  },
  {
   "cell_type": "code",
   "execution_count": 22,
   "id": "5212399c-a5a4-4d9d-a2ee-75086d54d7bf",
   "metadata": {
    "tags": []
   },
   "outputs": [
    {
     "name": "stdout",
     "output_type": "stream",
     "text": [
      "last\n",
      "last\n"
     ]
    }
   ],
   "source": [
    "x = [1, 3, 2, 'last']\n",
    "print(x.pop())\n",
    "x = [1, 3, 2, 'last']\n",
    "print(x.pop(-1))\n"
   ]
  },
  {
   "cell_type": "code",
   "execution_count": 23,
   "id": "f2aed6dd-e4e9-486d-a95c-9ed96ede4f4c",
   "metadata": {
    "tags": []
   },
   "outputs": [
    {
     "data": {
      "text/plain": [
       "array('l', [1, 3, 4, 5])"
      ]
     },
     "execution_count": 23,
     "metadata": {},
     "output_type": "execute_result"
    }
   ],
   "source": [
    "from array import array\n",
    "x = array('l', [1, 2, 3, 4, 5])\n",
    "x.remove(2)\n",
    "x"
   ]
  },
  {
   "cell_type": "code",
   "execution_count": 24,
   "id": "fbb55c42-29b7-4d25-a96b-bb830f0792db",
   "metadata": {
    "tags": []
   },
   "outputs": [
    {
     "data": {
      "text/plain": [
       "['first', 1, 2, 3, 'last']"
      ]
     },
     "execution_count": 24,
     "metadata": {},
     "output_type": "execute_result"
    }
   ],
   "source": [
    "x = [1,2,3]\n",
    "x.insert(0, 'first')\n",
    "x.append('last')\n",
    "x"
   ]
  },
  {
   "cell_type": "code",
   "execution_count": 25,
   "id": "c7bf41bd-ba12-4335-aa4a-9fab7bcf2aaf",
   "metadata": {
    "tags": []
   },
   "outputs": [
    {
     "name": "stdout",
     "output_type": "stream",
     "text": [
      "[3, 2, 1]\n"
     ]
    },
    {
     "data": {
      "text/plain": [
       "[2, 3, 1]"
      ]
     },
     "execution_count": 25,
     "metadata": {},
     "output_type": "execute_result"
    }
   ],
   "source": [
    "x = [1,3,2]\n",
    "x.sort(reverse=True)\n",
    "print(x)\n",
    "\n",
    "y = [1,3,2]\n",
    "y = list(reversed(y))\n",
    "y"
   ]
  },
  {
   "cell_type": "code",
   "execution_count": 26,
   "id": "cf54219b-912b-455f-ad36-ac48ff3c925a",
   "metadata": {
    "tags": []
   },
   "outputs": [
    {
     "name": "stdout",
     "output_type": "stream",
     "text": [
      "aaabbbccc PYTHON eeeeeddddded\n",
      " PYTHON eeeeeddddded\n",
      "abcaaabbbccc PYTHON eeeeeddddded\n",
      "abcaaabbbccc PYTHON \n",
      "PYTHON\n"
     ]
    }
   ],
   "source": [
    "ORIGINAL_STRING=\"abcaaabbbccc PYTHON eeeeeddddded\"\n",
    "s = ORIGINAL_STRING\n",
    "print (s.removeprefix(\"abc\"))\n",
    "\n",
    "s = ORIGINAL_STRING\n",
    "print (s.lstrip(\"abc\"))\n",
    "\n",
    "s = ORIGINAL_STRING\n",
    "print (s.removeprefix(\"ed\"))\n",
    "\n",
    "s = ORIGINAL_STRING\n",
    "print (s.rstrip(\"ed\"))\n",
    "\n",
    "s = ORIGINAL_STRING\n",
    "print (s.strip(\"abced \"))"
   ]
  },
  {
   "cell_type": "code",
   "execution_count": 27,
   "id": "4abbb312-5b00-4a8a-a93d-fecf99337291",
   "metadata": {
    "tags": []
   },
   "outputs": [
    {
     "name": "stdout",
     "output_type": "stream",
     "text": [
      "Ahmad Elmalah\n",
      "AHMAD ELMALAH\n",
      "ahmad elmalah\n"
     ]
    }
   ],
   "source": [
    "ORIGINAL_STRING=\"aHMAd eLMalah\"\n",
    "s = ORIGINAL_STRING\n",
    "print (s.title())\n",
    "\n",
    "s = ORIGINAL_STRING\n",
    "print (s.upper())\n",
    "\n",
    "s = ORIGINAL_STRING\n",
    "print (s.lower())"
   ]
  }
 ],
 "metadata": {
  "kernelspec": {
   "display_name": "Python 3 (ipykernel)",
   "language": "python",
   "name": "python3"
  },
  "language_info": {
   "codemirror_mode": {
    "name": "ipython",
    "version": 3
   },
   "file_extension": ".py",
   "mimetype": "text/x-python",
   "name": "python",
   "nbconvert_exporter": "python",
   "pygments_lexer": "ipython3",
   "version": "3.11.5"
  }
 },
 "nbformat": 4,
 "nbformat_minor": 5
}
